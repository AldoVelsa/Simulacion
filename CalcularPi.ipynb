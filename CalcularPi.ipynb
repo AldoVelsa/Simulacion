{
  "nbformat": 4,
  "nbformat_minor": 0,
  "metadata": {
    "colab": {
      "provenance": [],
      "authorship_tag": "ABX9TyPEhyFc/CJAMcan4vBxqa6w",
      "include_colab_link": true
    },
    "kernelspec": {
      "name": "python3",
      "display_name": "Python 3"
    },
    "language_info": {
      "name": "python"
    }
  },
  "cells": [
    {
      "cell_type": "markdown",
      "metadata": {
        "id": "view-in-github",
        "colab_type": "text"
      },
      "source": [
        "<a href=\"https://colab.research.google.com/github/AldoVelsa/Simulacion/blob/main/CalcularPi.ipynb\" target=\"_parent\"><img src=\"https://colab.research.google.com/assets/colab-badge.svg\" alt=\"Open In Colab\"/></a>"
      ]
    },
    {
      "cell_type": "code",
      "execution_count": 11,
      "metadata": {
        "colab": {
          "base_uri": "https://localhost:8080/"
        },
        "id": "GohX7g5D76mD",
        "outputId": "8f1f6c8c-43ae-4e2f-edda-f492bba87aab"
      },
      "outputs": [
        {
          "output_type": "stream",
          "name": "stdout",
          "text": [
            "El valor de pi es: 3.12400000 para n 10000\n",
            "El valor de pi es: 3.14077600 para n 1000000\n",
            "El valor de pi es: 3.14162164 para n 100000000\n"
          ]
        }
      ],
      "source": [
        "#!/usr/bin/env python\n",
        "\n",
        "#Se importa el modulo random\n",
        "\n",
        "import random\n",
        "\n",
        "\n",
        "\n",
        "#Se define la funcion\n",
        "\n",
        "def Pi(limite=10000000):\n",
        "\n",
        "    dentro = 0\n",
        "\n",
        "    contador = 0\n",
        "\n",
        "    #Se hace un ciclo hasta que contador sea igual al limite\n",
        "\n",
        "    while contador < limite:\n",
        "\n",
        "        #Se calcula  que los puntos esten dentro del radio del circulo\n",
        "\n",
        "        #Si es asi se incrementa la variable dentro. y luego se incrementa\n",
        "\n",
        "        #contador para pasar al siguiente ciclo.\n",
        "\n",
        "        if ((random.random()**2 + random.random()**2) <= 1):\n",
        "\n",
        "            dentro += 1\n",
        "\n",
        "        contador += 1\n",
        "\n",
        "    #Se retorna el resultado de la cantida de puntos dentro del circulo\n",
        "\n",
        "    #entre el limite por 4.\n",
        "\n",
        "    return 4.0*float(dentro)/limite\n",
        "\n",
        "\n",
        "\n",
        "if __name__ == \"__main__\":\n",
        "\n",
        "    n = (10000, 1000000,100000000)\n",
        "\n",
        "    for i in n:\n",
        "\n",
        "        print (\"El valor de pi es: {0:2.8f} para n {1}\".format(Pi(i),i))"
      ]
    }
  ]
}