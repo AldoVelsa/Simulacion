{
  "nbformat": 4,
  "nbformat_minor": 0,
  "metadata": {
    "colab": {
      "provenance": [],
      "authorship_tag": "ABX9TyOm55DFqca7tmrsI2SpjNT2",
      "include_colab_link": true
    },
    "kernelspec": {
      "name": "python3",
      "display_name": "Python 3"
    },
    "language_info": {
      "name": "python"
    }
  },
  "cells": [
    {
      "cell_type": "markdown",
      "metadata": {
        "id": "view-in-github",
        "colab_type": "text"
      },
      "source": [
        "<a href=\"https://colab.research.google.com/github/AldoVelsa/Simulacion/blob/main/Dados.ipynb\" target=\"_parent\"><img src=\"https://colab.research.google.com/assets/colab-badge.svg\" alt=\"Open In Colab\"/></a>"
      ]
    },
    {
      "cell_type": "code",
      "execution_count": null,
      "metadata": {
        "colab": {
          "base_uri": "https://localhost:8080/"
        },
        "id": "d-oWloH9h1yJ",
        "outputId": "d12ff23e-7389-475a-82df-25bfddb3bf35"
      },
      "outputs": [
        {
          "output_type": "stream",
          "name": "stdout",
          "text": [
            "Dado 1: 5635151166463261152445322132125326636\n",
            "Dado 2: 2255536421221152336266533432225211326\n"
          ]
        }
      ],
      "source": [
        "import random\n",
        "\n",
        "dado1 = 0\n",
        "dado2 = 0\n",
        "valoresDado1 = \"\"\n",
        "valoresDado2 = \"\"\n",
        "\n",
        "# Repetir hasta que ambos dados sean 6\n",
        "while dado1!=6 or dado2!=6:\n",
        "  # Lanzar los 2 dados\n",
        "  dado1 = random.randint(1, 6)\n",
        "  dado2 = random.randint(1, 6)\n",
        "  # Concatenar los valores obtenidos a los obtenidos hasta el momento\n",
        "  valoresDado1 += str(dado1)\n",
        "  valoresDado2 += str(dado2)\n",
        "\n",
        "# Mostrar finalmente todos los lanzamientos realizados\n",
        "print(\"Dado 1: \" + valoresDado1)\n",
        "print(\"Dado 2: \" + valoresDado2)"
      ]
    }
  ]
}